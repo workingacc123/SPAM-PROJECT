{
  "nbformat": 4,
  "nbformat_minor": 0,
  "metadata": {
    "colab": {
      "name": "SPAM_Project_v25_Cleaned_and_ready_to_be_uploaded.ipynb",
      "provenance": [],
      "collapsed_sections": [
        "CXlBnw3Tkjsg",
        "HjijmHOPks5W",
        "qtWvfKrUlpvr",
        "dQiXxnLDlc8Q",
        "ijVoOt_6m-xc",
        "nSw52gVCkrKt"
      ]
    },
    "kernelspec": {
      "display_name": "Python 3",
      "name": "python3"
    },
    "accelerator": "GPU"
  },
  "cells": [
    {
      "cell_type": "markdown",
      "metadata": {
        "id": "CXlBnw3Tkjsg"
      },
      "source": [
        "#Importing Libraries"
      ]
    },
    {
      "cell_type": "code",
      "metadata": {
        "id": "sYLd6l78CNli"
      },
      "source": [
        "import re, os\n",
        "import pandas as pd\n",
        "import numpy as np\n",
        "import matplotlib.pyplot as plt\n",
        "from tqdm import tqdm\n",
        "from time import time\n",
        "from nltk.corpus import stopwords\n",
        "from nltk.tokenize import word_tokenize\n",
        "import tensorflow as tf\n",
        "import keras.backend as K\n",
        "from keras.preprocessing.text import Tokenizer\n",
        "from keras.preprocessing.sequence import pad_sequences\n",
        "from keras.models import load_model, Sequential\n",
        "from keras.layers import Embedding,LSTM,Dense,SpatialDropout1D, GRU\n",
        "from keras.initializers import Constant\n",
        "from keras.optimizers import Adam\n",
        "from sklearn.model_selection import train_test_split\n",
        "from sklearn.metrics import accuracy_score, confusion_matrix, roc_curve, roc_auc_score\n",
        "from mlxtend.plotting import plot_confusion_matrix"
      ],
      "execution_count": null,
      "outputs": []
    },
    {
      "cell_type": "markdown",
      "metadata": {
        "id": "HjijmHOPks5W"
      },
      "source": [
        "#Downloading some packages"
      ]
    },
    {
      "cell_type": "code",
      "metadata": {
        "colab": {
          "base_uri": "https://localhost:8080/"
        },
        "id": "-cxx65M_2DAv",
        "outputId": "c4a8bced-8e50-4109-acfd-c803217ecfc8"
      },
      "source": [
        "import nltk\n",
        "nltk.download('stopwords')\n",
        "nltk.download('punkt')"
      ],
      "execution_count": null,
      "outputs": [
        {
          "output_type": "stream",
          "text": [
            "[nltk_data] Downloading package stopwords to /root/nltk_data...\n",
            "[nltk_data]   Unzipping corpora/stopwords.zip.\n",
            "[nltk_data] Downloading package punkt to /root/nltk_data...\n",
            "[nltk_data]   Unzipping tokenizers/punkt.zip.\n"
          ],
          "name": "stdout"
        },
        {
          "output_type": "execute_result",
          "data": {
            "text/plain": [
              "True"
            ]
          },
          "metadata": {
            "tags": []
          },
          "execution_count": 4
        }
      ]
    },
    {
      "cell_type": "markdown",
      "metadata": {
        "id": "qtWvfKrUlpvr"
      },
      "source": [
        "#Creating the model"
      ]
    },
    {
      "cell_type": "markdown",
      "metadata": {
        "id": "P97vH24ik4Zg"
      },
      "source": [
        "Files 'spam.csv' and 'glove.6B.50d.txt' are uploaded to the path: '/content/'"
      ]
    },
    {
      "cell_type": "code",
      "metadata": {
        "id": "RXOmhYmae0ki"
      },
      "source": [
        "class CustomHyperParameters():\n",
        "  MAX_SEQUENCE_LEN = 22 \n",
        "  BATCH_SIZE = 32\n",
        "  NUM_EPOCHS = 8 \n",
        "  LEARNING_RATE = 1e-4\n",
        "  EMBEDDING_DIMENSIONS = 50 \n",
        "  FILE_NAME = 'spam.csv'\n",
        "  CSV_FILE_LOCATION = \"/content/\" + FILE_NAME\n",
        "  MODEL_NAME = 'SpamModel.h5'\n",
        "  H5_MODEL_LOCATION = \"/content/\" + MODEL_NAME\n"
      ],
      "execution_count": null,
      "outputs": []
    },
    {
      "cell_type": "markdown",
      "metadata": {
        "id": "tG4eXB-NPHVt"
      },
      "source": [
        "####Twitter dataset"
      ]
    },
    {
      "cell_type": "markdown",
      "metadata": {
        "id": "j8nyXj0VQDQm"
      },
      "source": [
        "File 'train.csv' is uploaded to the path: 'content/'"
      ]
    },
    {
      "cell_type": "code",
      "metadata": {
        "colab": {
          "base_uri": "https://localhost:8080/"
        },
        "id": "gC_nM2ZVO448",
        "outputId": "f73c4b7e-9c33-48aa-af4c-ec5c6c73e568"
      },
      "source": [
        "class CustomDataLoader():\r\n",
        "\r\n",
        "  def __init__(self):\r\n",
        "    self.customHyperParameters = CustomHyperParameters()\r\n",
        "    self.df = self.loading_into_dataframe()\r\n",
        "\r\n",
        "  def loading_into_dataframe(self):\r\n",
        "    whole_data_into_dataframe = pd.read_csv('train.csv', encoding = \"ISO-8859-1\")\r\n",
        "    whole_data_into_dataframe.rename({'Tweet': 'v1', 'Type': 'v2'}, axis=1, inplace=True)\r\n",
        "    whole_data_into_dataframe['v2']=whole_data_into_dataframe['v2'].replace({'Quality':0,'Spam':1})\r\n",
        "    whole_data_into_dataframe.rename({'v2': 'spam_labels', 'v1': 'text_messages'}, axis=1, inplace=True)\r\n",
        "    return whole_data_into_dataframe[['spam_labels', 'text_messages']]\r\n",
        "    \r\n",
        "if __name__ == '__main__':\r\n",
        "  p = CustomDataLoader()\r\n",
        "  print(p.df['spam_labels'])\r\n",
        "#Best results for the Twitter dataset are given with batch size==12!"
      ],
      "execution_count": null,
      "outputs": [
        {
          "output_type": "stream",
          "text": [
            "0        0\n",
            "1        1\n",
            "2        0\n",
            "3        0\n",
            "4        0\n",
            "        ..\n",
            "14894    1\n",
            "14895    0\n",
            "14896    1\n",
            "14897    0\n",
            "14898    1\n",
            "Name: spam_labels, Length: 14899, dtype: object\n"
          ],
          "name": "stdout"
        }
      ]
    },
    {
      "cell_type": "code",
      "metadata": {
        "id": "aRnAOpJfRcQB"
      },
      "source": [
        "#Test score with the orginal data >>> around 0.92\r\n",
        "#Test score with Twitter data >>> around 0.90"
      ],
      "execution_count": null,
      "outputs": []
    },
    {
      "cell_type": "markdown",
      "metadata": {
        "id": "jnTy3_6qPT8B"
      },
      "source": [
        "####Original Dataset"
      ]
    },
    {
      "cell_type": "markdown",
      "metadata": {
        "id": "ElTzDs_gQIvD"
      },
      "source": [
        "There are 5573 records in the original dataset.\r\n",
        "\r\n",
        "There are 9308 records in the augmented orginal dataset."
      ]
    },
    {
      "cell_type": "code",
      "metadata": {
        "colab": {
          "base_uri": "https://localhost:8080/"
        },
        "id": "ZFI_HoNlCZfQ",
        "outputId": "d6f2b618-fa7a-441b-e1c3-ecbc60a21413"
      },
      "source": [
        "class CustomDataLoader():\n",
        "\n",
        "  def __init__(self):\n",
        "    self.customHyperParameters = CustomHyperParameters()\n",
        "    self.df = self.loading_into_dataframe()\n",
        "\n",
        "  def loading_into_dataframe(self):\n",
        "    whole_data_into_dataframe = pd.read_csv(self.customHyperParameters.CSV_FILE_LOCATION, encoding = \"ISO-8859-1\")\n",
        "    sliced_df = whole_data_into_dataframe.iloc[:,:2]\n",
        "    sliced_df['v1']=sliced_df['v1'].replace({'ham':0,'spam':1})\n",
        "    sliced_df.rename({'v1': 'spam_labels', 'v2': 'text_messages'}, axis=1, inplace=True)\n",
        "    return sliced_df\n",
        "    \n",
        "if __name__ == '__main__':\n",
        "  p = CustomDataLoader()\n",
        "  print(p.df)"
      ],
      "execution_count": null,
      "outputs": [
        {
          "output_type": "stream",
          "text": [
            "      spam_labels                                      text_messages\n",
            "0               0  Go until jurong point, crazy.. Available only ...\n",
            "1               0                      Ok lar... Joking wif u oni...\n",
            "2               1  Free entry in 2 a wkly comp to win FA Cup fina...\n",
            "3               0  U dun say so early hor... U c already then say...\n",
            "4               0  Nah I don't think he goes to usf, he lives aro...\n",
            "...           ...                                                ...\n",
            "9302            1  want for sex in 30 moments? ring 6 ÃÂª! 0 20p...\n",
            "9303            1  opt in if its chatlines inclu to 30 mins. indi...\n",
            "9304            1  had any contract mobile been answered? nokia m...\n",
            "9305            1  follow this me : to get 2. 50 pounds free call...\n",
            "9306            1  this was his 2nd time we have tried directly c...\n",
            "\n",
            "[9307 rows x 2 columns]\n"
          ],
          "name": "stdout"
        },
        {
          "output_type": "stream",
          "text": [
            "/usr/local/lib/python3.6/dist-packages/ipykernel_launcher.py:10: SettingWithCopyWarning: \n",
            "A value is trying to be set on a copy of a slice from a DataFrame.\n",
            "Try using .loc[row_indexer,col_indexer] = value instead\n",
            "\n",
            "See the caveats in the documentation: https://pandas.pydata.org/pandas-docs/stable/user_guide/indexing.html#returning-a-view-versus-a-copy\n",
            "  # Remove the CWD from sys.path while we load stuff.\n",
            "/usr/local/lib/python3.6/dist-packages/pandas/core/frame.py:4308: SettingWithCopyWarning: \n",
            "A value is trying to be set on a copy of a slice from a DataFrame\n",
            "\n",
            "See the caveats in the documentation: https://pandas.pydata.org/pandas-docs/stable/user_guide/indexing.html#returning-a-view-versus-a-copy\n",
            "  errors=errors,\n"
          ],
          "name": "stderr"
        }
      ]
    },
    {
      "cell_type": "code",
      "metadata": {
        "id": "y7UD7zPEB7Cn"
      },
      "source": [
        "class CustomTokenizer():\n",
        "  def __init__(self):\n",
        "    self.customHyperParameters = CustomHyperParameters()\n",
        "    self.customDataLoader = CustomDataLoader()\n",
        "    self.tokenizer_object = Tokenizer()\n",
        "\n",
        "    self.corpus = self.create_corpus()\n",
        "    self.fitting_the_Tokizer()\n",
        "\n",
        "  def create_corpus(self):\n",
        "    df = self.customDataLoader.df\n",
        "    dataframe_as_list = pd.Series.tolist(df['text_messages'])\n",
        "    corpus = []\n",
        "    for el in dataframe_as_list:\n",
        "      text = re.sub('[^a-zA-Z]', ' ', el)  \n",
        "      text = text.lower() \n",
        "      text = [w for w in word_tokenize(text)]\n",
        "      text = [w for w in text if not w in set(stopwords.words('english')) and w.isalpha()] \n",
        "      corpus.append(text)\n",
        "    return corpus\n",
        "\n",
        "  def fitting_the_Tokizer(self):\n",
        "    self.tokenizer_object.fit_on_texts(self.corpus)\n",
        "\n",
        "  def tokenize_and_pad(self, dataToBeTokenized):\n",
        "    sequences=self.tokenizer_object.texts_to_sequences(dataToBeTokenized)\n",
        "    tweet_pad=pad_sequences(sequences,maxlen=self.customHyperParameters.MAX_SEQUENCE_LEN,truncating='post',padding='post')\n",
        "    return tweet_pad\n",
        "  \n",
        "  def get_the_number_of_words(self):\n",
        "    word_index=CustomTokenizer().tokenizer_object.word_index\n",
        "    num_words=len(word_index)+1\n",
        "    return (word_index, num_words)"
      ],
      "execution_count": null,
      "outputs": []
    },
    {
      "cell_type": "code",
      "metadata": {
        "id": "5yZcGmbMI1AU"
      },
      "source": [
        "class CustomEmbeddings():\n",
        "  FILE_NAME = 'glove.6B.50d.txt'\n",
        "  CSV_FILE_LOCATION = \"/content/\" + FILE_NAME\n",
        "\n",
        "  def __init__(self):\n",
        "    self.customHyperParameters = CustomHyperParameters()\n",
        "    self.tokenizer_obj = CustomTokenizer()\n",
        "\n",
        "    self.dict_with_embeddings = self.creating_embedding_dict()\n",
        "    \n",
        "  def creating_embedding_dict(self):\n",
        "    dict_with_embeddings={}\n",
        "    with open(CustomEmbeddings.CSV_FILE_LOCATION,'r') as f:\n",
        "      for line in f:\n",
        "        values = line.split()\n",
        "        word=values[0]\n",
        "        vectors=np.asarray(values[1:],'float32')\n",
        "        dict_with_embeddings[word]=vectors\n",
        "    return dict_with_embeddings\n",
        "\n",
        "  def creating_embedding_matrix(self):\n",
        "    word_index, num_words=self.tokenizer_obj.get_the_number_of_words()\n",
        "    embedding_matrix=np.zeros((num_words,self.customHyperParameters.EMBEDDING_DIMENSIONS))\n",
        "    for word,i in tqdm(word_index.items()):\n",
        "        emb_vec=self.dict_with_embeddings.get(word)\n",
        "        if emb_vec is not None:\n",
        "            embedding_matrix[i]=emb_vec\n",
        "    return embedding_matrix"
      ],
      "execution_count": null,
      "outputs": []
    },
    {
      "cell_type": "code",
      "metadata": {
        "id": "xNKGp1sT6fY7"
      },
      "source": [
        "class CustomDataSplitter():\n",
        "  def __init__(self):\n",
        "    self.customDataLoader = CustomDataLoader()\n",
        "    self.customTokenizer = CustomTokenizer()\n",
        "    self.padded_data = self.customTokenizer.tokenize_and_pad(self.customTokenizer.corpus)\n",
        "\n",
        "    self.X_train, self.X_val, self.X_test, self.y_train, self.y_val, self.y_test = self.splitting_the_data(self.padded_data, self.customDataLoader.df.spam_labels.values)\n",
        "\n",
        "  def splitting_the_data(self, padded_text, labels):\n",
        "    padded_text = np.asarray(padded_text).astype(np.int32)\n",
        "    labels = np.asarray(labels).astype(np.int32)\n",
        "    X_train, X_val_and_test, y_train, y_val_and_test = train_test_split(padded_text,labels, test_size=.3, random_state=2)\n",
        "    X_val, X_test, y_val, y_test = train_test_split(X_val_and_test,y_val_and_test, test_size=.33, random_state=2)\n",
        "\n",
        "    print('Shape of train sequences: ',X_train.shape)\n",
        "    print(\"Shape of Validation sequences: \",X_val.shape)\n",
        "    print(\"Shape of Test sequences: \",X_test.shape)\n",
        "    print('Shape of train labels: ',y_train.shape)\n",
        "    print(\"Shape of Validation  labels: \",y_val.shape)\n",
        "    print(\"Shape of Test  labels: \",y_test.shape)\n",
        "\n",
        "    return X_train, X_val, X_test, y_train, y_val, y_test "
      ],
      "execution_count": null,
      "outputs": []
    },
    {
      "cell_type": "code",
      "metadata": {
        "id": "l_EHifjaJSL-"
      },
      "source": [
        "def finding_true_positives_as_percent(y_true, y_pred):\n",
        "  y_pred, y_true = converting_the_values(y_true, y_pred)  \n",
        "  indexes_of_true_values = tf.where(y_true == 1)\n",
        "  selected_actual_value = tf.gather_nd( y_true, indexes_of_true_values,) \n",
        "  selected_predicted_value = tf.gather_nd(y_pred, indexes_of_true_values,) \n",
        "  true_positives_percent = finding_the_metric(selected_actual_value, selected_predicted_value)\n",
        "  return true_positives_percent\n",
        "\n",
        "def finding_true_negatives_as_percent(y_true, y_pred):\n",
        "  y_pred, y_true = converting_the_values(y_true, y_pred)  \n",
        "  indexes_of_true_values = tf.where(y_true != 1)\n",
        "  selected_actual_value = tf.gather_nd( y_true, indexes_of_true_values,) \n",
        "  selected_predicted_value = tf.gather_nd(y_pred, indexes_of_true_values,) \n",
        "  true_negatives_percent = finding_the_metric(selected_actual_value, selected_predicted_value)\n",
        "  return true_negatives_percent\n",
        "\n",
        "def finding_false_positives_as_percent(y_true, y_pred):\n",
        "  y_pred, y_true = converting_the_values(y_true, y_pred)  \n",
        "  indexes_of_false_values = tf.where(y_true == 1)\n",
        "  selected_actual_value = tf.gather_nd(y_true, indexes_of_false_values,) \n",
        "  selected_predicted_value = tf.gather_nd((1 - y_pred), indexes_of_false_values,) \n",
        "  false_positives_percent = finding_the_metric(selected_actual_value, selected_predicted_value)\n",
        "  return false_positives_percent\n",
        "\n",
        "def finding_false_negatives_as_percent(y_true, y_pred):\n",
        "  y_pred, y_true = converting_the_values(y_true, y_pred)  \n",
        "  indexes_of_false_values = tf.where(y_true != 1)\n",
        "  selected_actual_value = tf.gather_nd(y_true, indexes_of_false_values,) \n",
        "  selected_predicted_value = tf.gather_nd((1 - y_pred), indexes_of_false_values,) \n",
        "  false_negatives_percent = finding_the_metric(selected_actual_value, selected_predicted_value)\n",
        "  return false_negatives_percent\n",
        "\n",
        "def converting_the_values(y_true, y_pred):\n",
        "  y_pred = K.round(y_pred)\n",
        "  y_pred = tf.dtypes.cast(y_pred, tf.int32)\n",
        "  y_true = tf.dtypes.cast(y_true, tf.int32)\n",
        "  return y_pred, y_true\n",
        "\n",
        "def finding_the_metric(selected_actual_value, selected_predicted_value):\n",
        "  comparing_the_2_values = tf.math.equal(selected_actual_value, selected_predicted_value)\n",
        "  casted_values = tf.dtypes.cast(comparing_the_2_values, tf.float64)\n",
        "  metric = tf.reduce_mean(casted_values)\n",
        "  return metric\n",
        "\n",
        "def custom_f1_score(y_true, y_pred):\n",
        "  precision, recall = finding_precision_and_recall(y_true, y_pred)\n",
        "\n",
        "  custom_f1_score = 2 * (precision * recall)/(precision + recall + K.epsilon())\n",
        "  f1 = tf.where(tf.math.is_nan(custom_f1_score), tf.zeros_like(custom_f1_score), custom_f1_score)\n",
        "  return  tf.keras.backend.mean(f1)\n",
        "\n",
        "def custom_f_0_point_8_score(y_true, y_pred):\n",
        "  precision, recall = finding_precision_and_recall(y_true, y_pred)\n",
        "\n",
        "  custom_f_0_point_8_score = (1+0.8**2) * (precision * recall)/((precision* 0.8**2) + recall + K.epsilon()) \n",
        "  f1 = tf.where(tf.math.is_nan(custom_f_0_point_8_score), tf.zeros_like(custom_f_0_point_8_score), custom_f_0_point_8_score)\n",
        "  return  tf.keras.backend.mean(f1)\n",
        "\n",
        "def finding_precision_and_recall(y_true, y_pred):\n",
        "  true_positive = finding_true_positives_as_percent(y_true, y_pred)\n",
        "  true_negative = finding_true_negatives_as_percent(y_true, y_pred)\n",
        "  false_positive = finding_false_positives_as_percent(y_true, y_pred)\n",
        "  false_negative = finding_false_negatives_as_percent(y_true, y_pred)\n",
        "\n",
        "  precision = true_positive/ (true_positive + false_positive + K.epsilon())\n",
        "  recall =  true_positive /(true_positive + false_negative + K.epsilon())\n",
        "\n",
        "  return precision, recall\n",
        "\n",
        "#Actual and Predicted 1 = TP\n",
        "#Actual and Predicted 0 = TN\n",
        "#Actual 1, Predicted 0 = FP = For Precision\n",
        "#Actual 0, Predicted 1 = FN = For Recall"
      ],
      "execution_count": null,
      "outputs": []
    },
    {
      "cell_type": "code",
      "metadata": {
        "id": "c2G1EqWJ_NbN"
      },
      "source": [
        "class SpamModel():\n",
        "\n",
        "  def __init__(self):\n",
        "    self.customHyperParameters = CustomHyperParameters()\n",
        "    self.dataSplitter = CustomDataSplitter()\n",
        "    self.embeddings = CustomEmbeddings()\n",
        "    self.tokenizer_obj = CustomTokenizer()\n",
        "\n",
        "    self.already_fine_tuned()\n",
        "\n",
        "  def already_fine_tuned(self):\n",
        "    if os.path.exists(self.customHyperParameters.H5_MODEL_LOCATION):\n",
        "      self.loading_the_model()\n",
        "    else:\n",
        "      self.running_the_model()\n",
        "      self.saving_the_model()\n",
        "\n",
        "  def saving_the_model(self):\n",
        "    self.model.save(filepath = self.customHyperParameters.H5_MODEL_LOCATION,  overwrite=True, include_optimizer=True)\n",
        "\n",
        "  def loading_the_model(self):\n",
        "    self.model = load_model(filepath = self.customHyperParameters.H5_MODEL_LOCATION, custom_objects= {'custom_f1_score': custom_f1_score, 'custom_f_0_point_8_score' : custom_f_0_point_8_score})\n",
        "    self.model.summary()\n",
        "\n",
        "  def running_the_model(self):\n",
        "    _, num_words=self.tokenizer_obj.get_the_number_of_words()\n",
        "    self.embedding_matrix = self.embeddings.creating_embedding_matrix()\n",
        "    self.model = self.defining_model_architecture(num_words, self.customHyperParameters.MAX_SEQUENCE_LEN, self.embedding_matrix)\n",
        "    self.defining_a_compiler()\n",
        "    self.fitting_the_model(self.dataSplitter.X_train, self.dataSplitter.y_train, self.dataSplitter.X_val, self.dataSplitter.y_val,)\n",
        "    self.evaluating_the_model(self.dataSplitter.X_test, self.dataSplitter.y_test)\n",
        "    self.vizualizing_confusion_matrix(self.dataSplitter.X_test, self.dataSplitter.y_test)\n",
        "    self.making_of_roc_curve(self.dataSplitter.X_test, self.dataSplitter.y_test)\n",
        "\n",
        "  def defining_model_architecture(self, NUM_WORDS, MAX_LEN, embedding_matrix):\n",
        "    model=Sequential()\n",
        "    embedding_layer=Embedding(NUM_WORDS,self.customHyperParameters.EMBEDDING_DIMENSIONS,embeddings_initializer=Constant(embedding_matrix),\n",
        "                      input_length=MAX_LEN,trainable=False)\n",
        "    model.add(embedding_layer)\n",
        "    model.add(SpatialDropout1D(0.2))\n",
        "    model.add(GRU(64, dropout=0.2, recurrent_dropout=0.2,return_sequences=True))\n",
        "    model.add(tf.keras.layers.GRU(32,return_sequences=True))\n",
        "    model.add(tf.keras.layers.GRU(16))\n",
        "    model.add(tf.keras.layers.Dense(16, activation='relu'))\n",
        "    model.add(Dense(1, activation='sigmoid'))\n",
        "    return model\n",
        "\n",
        "  def defining_a_compiler(self):\n",
        "    optimzer=Adam(learning_rate=self.customHyperParameters.LEARNING_RATE)\n",
        "    self.model.compile(loss='binary_crossentropy',optimizer=optimzer,metrics=['acc', custom_f1_score, custom_f_0_point_8_score, tf.keras.metrics.AUC()])\n",
        "    self.model.summary()\n",
        "\n",
        "  def fitting_the_model(self, X_train, y_train, X_val, y_val):\n",
        "    self.model.fit(X_train,y_train,batch_size=self.customHyperParameters.BATCH_SIZE,epochs=self.customHyperParameters.NUM_EPOCHS,validation_data=(X_val,y_val),verbose=1)\n",
        "\n",
        "  def evaluating_the_model(self, X_test, y_test):\n",
        "    eval_metric = self.model.evaluate(x =X_test , y = y_test, batch_size =self.customHyperParameters.BATCH_SIZE , verbose=1, )\n",
        "    print(f'Performance of the Test set: {eval_metric}')\n",
        "\n",
        "  def making_predictions(self, iterator_with_messages_to_be_predicted):\n",
        "    prediction = self.model.predict(x = iterator_with_messages_to_be_predicted, verbose=0,)\n",
        "    return prediction\n",
        "\n",
        "  def vizualizing_confusion_matrix(self, y_to_be_predicted, y_true): \n",
        "    predictions = self.making_predictions(y_to_be_predicted)\n",
        "    y_pred = predictions > 0.5\n",
        "    data = confusion_matrix(y_true, y_pred)\n",
        "    print(data)\n",
        "    fig, ax = plot_confusion_matrix(conf_mat=data,\n",
        "                                    show_absolute=True,\n",
        "                                    show_normed=True,\n",
        "                                    colorbar=True,\n",
        "                                    cmap = 'cool',\n",
        "                                    figsize = (10, 7))\n",
        "    plt.show()\n",
        "\n",
        "  def making_of_roc_curve(self,y_to_be_predicted, y_true): \n",
        "    predictions = self.making_predictions(y_to_be_predicted)\n",
        "    false_positive_rate1, true_positive_rate1, threshold1 = roc_curve(y_true, predictions)\n",
        "    print('roc_auc_score for SpamModel: ', roc_auc_score(y_true, predictions)) \n",
        "    \n",
        "    plt.subplots(1, figsize=(10,10))\n",
        "    plt.title('Receiver Operating Characteristic - SpamModel')\n",
        "    plt.plot(false_positive_rate1, true_positive_rate1)\n",
        "    plt.plot([0, 1], ls=\"--\")\n",
        "    plt.plot([0, 0], [1, 0] , c=\".7\"), plt.plot([1, 1] , c=\".7\")\n",
        "    plt.ylabel('True Positive Rate')\n",
        "    plt.xlabel('False Positive Rate')\n",
        "    plt.show()\n"
      ],
      "execution_count": null,
      "outputs": []
    },
    {
      "cell_type": "markdown",
      "metadata": {
        "id": "dQiXxnLDlc8Q"
      },
      "source": [
        "#RUNNING THE MODEL"
      ]
    },
    {
      "cell_type": "code",
      "metadata": {
        "colab": {
          "base_uri": "https://localhost:8080/",
          "height": 1000
        },
        "id": "2Bs2Q3FEKcL1",
        "outputId": "3095116a-063d-4a7d-e7a3-fc30646a496d"
      },
      "source": [
        "spamModel = SpamModel() "
      ],
      "execution_count": null,
      "outputs": [
        {
          "output_type": "stream",
          "text": [
            "/usr/local/lib/python3.6/dist-packages/ipykernel_launcher.py:10: SettingWithCopyWarning: \n",
            "A value is trying to be set on a copy of a slice from a DataFrame.\n",
            "Try using .loc[row_indexer,col_indexer] = value instead\n",
            "\n",
            "See the caveats in the documentation: https://pandas.pydata.org/pandas-docs/stable/user_guide/indexing.html#returning-a-view-versus-a-copy\n",
            "  # Remove the CWD from sys.path while we load stuff.\n",
            "/usr/local/lib/python3.6/dist-packages/pandas/core/frame.py:4308: SettingWithCopyWarning: \n",
            "A value is trying to be set on a copy of a slice from a DataFrame\n",
            "\n",
            "See the caveats in the documentation: https://pandas.pydata.org/pandas-docs/stable/user_guide/indexing.html#returning-a-view-versus-a-copy\n",
            "  errors=errors,\n"
          ],
          "name": "stderr"
        },
        {
          "output_type": "stream",
          "text": [
            "Shape of train sequences:  (6514, 22)\n",
            "Shape of Validation sequences:  (1871, 22)\n",
            "Shape of Test sequences:  (922, 22)\n",
            "Shape of train labels:  (6514,)\n",
            "Shape of Validation  labels:  (1871,)\n",
            "Shape of Test  labels:  (922,)\n"
          ],
          "name": "stdout"
        },
        {
          "output_type": "stream",
          "text": [
            "100%|██████████| 9914/9914 [00:00<00:00, 525733.05it/s]\n"
          ],
          "name": "stderr"
        },
        {
          "output_type": "stream",
          "text": [
            "WARNING:tensorflow:Layer gru will not use cuDNN kernel since it doesn't meet the cuDNN kernel criteria. It will use generic GPU kernel as fallback when running on GPU\n",
            "Model: \"sequential\"\n",
            "_________________________________________________________________\n",
            "Layer (type)                 Output Shape              Param #   \n",
            "=================================================================\n",
            "embedding (Embedding)        (None, 22, 50)            495750    \n",
            "_________________________________________________________________\n",
            "spatial_dropout1d (SpatialDr (None, 22, 50)            0         \n",
            "_________________________________________________________________\n",
            "gru (GRU)                    (None, 22, 64)            22272     \n",
            "_________________________________________________________________\n",
            "gru_1 (GRU)                  (None, 22, 32)            9408      \n",
            "_________________________________________________________________\n",
            "gru_2 (GRU)                  (None, 16)                2400      \n",
            "_________________________________________________________________\n",
            "dense (Dense)                (None, 16)                272       \n",
            "_________________________________________________________________\n",
            "dense_1 (Dense)              (None, 1)                 17        \n",
            "=================================================================\n",
            "Total params: 530,119\n",
            "Trainable params: 34,369\n",
            "Non-trainable params: 495,750\n",
            "_________________________________________________________________\n",
            "Epoch 1/8\n",
            "204/204 [==============================] - 40s 137ms/step - loss: 0.6508 - acc: 0.7844 - custom_f1_score: 0.7969 - custom_f_0_point_8_score: 0.8009 - auc: 0.8259 - val_loss: 0.4597 - val_acc: 0.8685 - val_custom_f1_score: 0.8728 - val_custom_f_0_point_8_score: 0.8778 - val_auc: 0.9263\n",
            "Epoch 2/8\n",
            "204/204 [==============================] - 26s 130ms/step - loss: 0.3870 - acc: 0.8777 - custom_f1_score: 0.8724 - custom_f_0_point_8_score: 0.8674 - auc: 0.9304 - val_loss: 0.2534 - val_acc: 0.9177 - val_custom_f1_score: 0.9129 - val_custom_f_0_point_8_score: 0.9097 - val_auc: 0.9615\n",
            "Epoch 3/8\n",
            "204/204 [==============================] - 26s 129ms/step - loss: 0.2572 - acc: 0.9070 - custom_f1_score: 0.9033 - custom_f_0_point_8_score: 0.8977 - auc: 0.9634 - val_loss: 0.2326 - val_acc: 0.9225 - val_custom_f1_score: 0.9186 - val_custom_f_0_point_8_score: 0.9158 - val_auc: 0.9649\n",
            "Epoch 4/8\n",
            "204/204 [==============================] - 27s 133ms/step - loss: 0.2482 - acc: 0.9091 - custom_f1_score: 0.9047 - custom_f_0_point_8_score: 0.9006 - auc: 0.9616 - val_loss: 0.2237 - val_acc: 0.9278 - val_custom_f1_score: 0.9257 - val_custom_f_0_point_8_score: 0.9252 - val_auc: 0.9676\n",
            "Epoch 5/8\n",
            "204/204 [==============================] - 27s 132ms/step - loss: 0.2311 - acc: 0.9221 - custom_f1_score: 0.9181 - custom_f_0_point_8_score: 0.9145 - auc: 0.9646 - val_loss: 0.2188 - val_acc: 0.9268 - val_custom_f1_score: 0.9254 - val_custom_f_0_point_8_score: 0.9259 - val_auc: 0.9694\n",
            "Epoch 6/8\n",
            "204/204 [==============================] - 27s 131ms/step - loss: 0.2246 - acc: 0.9180 - custom_f1_score: 0.9145 - custom_f_0_point_8_score: 0.9105 - auc: 0.9697 - val_loss: 0.2107 - val_acc: 0.9311 - val_custom_f1_score: 0.9306 - val_custom_f_0_point_8_score: 0.9295 - val_auc: 0.9710\n",
            "Epoch 7/8\n",
            "204/204 [==============================] - 27s 131ms/step - loss: 0.2230 - acc: 0.9180 - custom_f1_score: 0.9140 - custom_f_0_point_8_score: 0.9098 - auc: 0.9686 - val_loss: 0.2044 - val_acc: 0.9316 - val_custom_f1_score: 0.9306 - val_custom_f_0_point_8_score: 0.9288 - val_auc: 0.9733\n",
            "Epoch 8/8\n",
            "204/204 [==============================] - 27s 130ms/step - loss: 0.1999 - acc: 0.9290 - custom_f1_score: 0.9279 - custom_f_0_point_8_score: 0.9249 - auc: 0.9741 - val_loss: 0.2006 - val_acc: 0.9327 - val_custom_f1_score: 0.9316 - val_custom_f_0_point_8_score: 0.9306 - val_auc: 0.9747\n",
            "29/29 [==============================] - 1s 18ms/step - loss: 0.1847 - acc: 0.9360 - custom_f1_score: 0.9361 - custom_f_0_point_8_score: 0.9349 - auc: 0.9784\n",
            "Performance of the Test set: [0.18465976417064667, 0.9360086917877197, 0.9361347556114197, 0.9349144101142883, 0.9784441590309143]\n",
            "[[464  29]\n",
            " [ 30 399]]\n"
          ],
          "name": "stdout"
        },
        {
          "output_type": "display_data",
          "data": {
            "image/png": "[encoded data removed]",
            "text/plain": [
              "<Figure size 720x504 with 2 Axes>"
            ]
          },
          "metadata": {
            "tags": [],
            "needs_background": "light"
          }
        },
        {
          "output_type": "stream",
          "text": [
            "roc_auc_score for SpamModel:  0.9786498153638115\n"
          ],
          "name": "stdout"
        },
        {
          "output_type": "display_data",
          "data": {
            "image/png": "[encoded data removed]",
            "text/plain": [
              "<Figure size 720x720 with 1 Axes>"
            ]
          },
          "metadata": {
            "tags": [],
            "needs_background": "light"
          }
        }
      ]
    },
    {
      "cell_type": "markdown",
      "metadata": {
        "id": "ijVoOt_6m-xc"
      },
      "source": [
        "#How well our model makes predictions"
      ]
    },
    {
      "cell_type": "markdown",
      "metadata": {
        "id": "uJPpILi4nR1r"
      },
      "source": [
        "Predictions on selfmade examples"
      ]
    },
    {
      "cell_type": "code",
      "metadata": {
        "id": "f65b2iogbQ3t"
      },
      "source": [
        "#Examples of Spam and non-Spam messages:\r\n",
        "spam_messages_list = ['Hello. We detected fraudulent activity on your Apple iCloud account. To reset password www.applesupport/1234ds.com',\r\n",
        "                      'You received 3 bitcoins($14,242 USD) in your account. Register to accept the transfer: https://bitcoinmine/232qq.com',\r\n",
        "                      'DSK BANK: Your account is temporary locked. Please log in at https://dskbank/support/verification.bg to verify that its you.',\r\n",
        "                      'Congratulations! You are the 1000 user registered to https://ifeelhappy.com and you win 10 000 $. Log in to https://ifeelhappy.com to claim your reward.']\r\n",
        "spam_messages_labels = [1,1,1,1]\r\n",
        "non_spam_messages_list = [\"Hello Ivan, it's me - Nataly. Could you return me the books i borrowed you last week?\",\r\n",
        "                          'hi, nice to meet you, how are u? watcha you doin?',\r\n",
        "                          \"I am telling you Gerasim is a liar, believe me, dont trust him and go get your documents at 5 i'clock\",\r\n",
        "                          'Heheheh, that was a nice joke, i would remember it and keep on laughting at it for weeks, xaxaxaxaaxa :D:D:D::d']\r\n",
        "non_spam_messages_labels = [0,0,0,0]\r\n",
        "all_examples = spam_messages_list + non_spam_messages_list\r\n",
        "all_examples_labels =  spam_messages_labels + non_spam_messages_labels"
      ],
      "execution_count": null,
      "outputs": []
    },
    {
      "cell_type": "code",
      "metadata": {
        "colab": {
          "base_uri": "https://localhost:8080/"
        },
        "id": "ebgsprEoaBsH",
        "outputId": "267ff70c-ed16-4776-eb33-2627ff114909"
      },
      "source": [
        "#Predictions on both spam and nonspam\r\n",
        "temp_tokenizer = CustomTokenizer()\r\n",
        "padded_data = temp_tokenizer.tokenize_and_pad(all_examples)\r\n",
        "spamModel.making_predictions(padded_data)"
      ],
      "execution_count": null,
      "outputs": [
        {
          "output_type": "stream",
          "text": [
            "/usr/local/lib/python3.6/dist-packages/ipykernel_launcher.py:10: SettingWithCopyWarning: \n",
            "A value is trying to be set on a copy of a slice from a DataFrame.\n",
            "Try using .loc[row_indexer,col_indexer] = value instead\n",
            "\n",
            "See the caveats in the documentation: https://pandas.pydata.org/pandas-docs/stable/user_guide/indexing.html#returning-a-view-versus-a-copy\n",
            "  # Remove the CWD from sys.path while we load stuff.\n",
            "/usr/local/lib/python3.6/dist-packages/pandas/core/frame.py:4308: SettingWithCopyWarning: \n",
            "A value is trying to be set on a copy of a slice from a DataFrame\n",
            "\n",
            "See the caveats in the documentation: https://pandas.pydata.org/pandas-docs/stable/user_guide/indexing.html#returning-a-view-versus-a-copy\n",
            "  errors=errors,\n"
          ],
          "name": "stderr"
        },
        {
          "output_type": "execute_result",
          "data": {
            "text/plain": [
              "array([[0.93636054],\n",
              "       [0.96182436],\n",
              "       [0.92294407],\n",
              "       [0.9754522 ],\n",
              "       [0.2203173 ],\n",
              "       [0.04079501],\n",
              "       [0.05734996],\n",
              "       [0.0424415 ]], dtype=float32)"
            ]
          },
          "metadata": {
            "tags": []
          },
          "execution_count": 17
        }
      ]
    },
    {
      "cell_type": "code",
      "metadata": {
        "colab": {
          "base_uri": "https://localhost:8080/",
          "height": 667
        },
        "id": "X8yF9oltbXUx",
        "outputId": "206601c6-166a-4fcb-90a1-ed8640e4608b"
      },
      "source": [
        "#Confusion matrix on both spam and non_spam messages\r\n",
        "temp_tokenizer = CustomTokenizer()\r\n",
        "padded_data = temp_tokenizer.tokenize_and_pad(all_examples)\r\n",
        "spamModel.vizualizing_confusion_matrix(padded_data, np.array(all_examples_labels))"
      ],
      "execution_count": null,
      "outputs": [
        {
          "output_type": "stream",
          "text": [
            "/usr/local/lib/python3.6/dist-packages/ipykernel_launcher.py:10: SettingWithCopyWarning: \n",
            "A value is trying to be set on a copy of a slice from a DataFrame.\n",
            "Try using .loc[row_indexer,col_indexer] = value instead\n",
            "\n",
            "See the caveats in the documentation: https://pandas.pydata.org/pandas-docs/stable/user_guide/indexing.html#returning-a-view-versus-a-copy\n",
            "  # Remove the CWD from sys.path while we load stuff.\n",
            "/usr/local/lib/python3.6/dist-packages/pandas/core/frame.py:4308: SettingWithCopyWarning: \n",
            "A value is trying to be set on a copy of a slice from a DataFrame\n",
            "\n",
            "See the caveats in the documentation: https://pandas.pydata.org/pandas-docs/stable/user_guide/indexing.html#returning-a-view-versus-a-copy\n",
            "  errors=errors,\n"
          ],
          "name": "stderr"
        },
        {
          "output_type": "stream",
          "text": [
            "[[4 0]\n",
            " [0 4]]\n"
          ],
          "name": "stdout"
        },
        {
          "output_type": "display_data",
          "data": {
            "image/png": "[encoded data removed]",
            "text/plain": [
              "<Figure size 720x504 with 2 Axes>"
            ]
          },
          "metadata": {
            "tags": [],
            "needs_background": "light"
          }
        }
      ]
    },
    {
      "cell_type": "markdown",
      "metadata": {
        "id": "nSw52gVCkrKt"
      },
      "source": [
        "# Creating some basic models"
      ]
    },
    {
      "cell_type": "code",
      "metadata": {
        "colab": {
          "base_uri": "https://localhost:8080/",
          "height": 35
        },
        "id": "0NX-V72t0O8o",
        "outputId": "a11aa5b5-8923-441c-e419-e7d9d3e0b8bb"
      },
      "source": [
        "\"\"\"\r\n",
        "1.Naive Bayes\r\n",
        "2.Logistic regression, SVM and Random Forest\r\n",
        "3.K-Nearest Neighbours, Decision Tree,  Stochastic Gradient Descent\r\n",
        "\"\"\""
      ],
      "execution_count": null,
      "outputs": [
        {
          "output_type": "execute_result",
          "data": {
            "application/vnd.google.colaboratory.intrinsic+json": {
              "type": "string"
            },
            "text/plain": [
              "'\\n1.Naive Bayes\\n2.Logistic regression, SVM and Random Forest\\n3.K-Nearest Neighbours, Decision Tree,  Stochastic Gradient Descent\\n'"
            ]
          },
          "metadata": {
            "tags": []
          },
          "execution_count": 19
        }
      ]
    },
    {
      "cell_type": "code",
      "metadata": {
        "id": "DD7zlSKMku0v"
      },
      "source": [
        "from sklearn.naive_bayes import GaussianNB \r\n",
        "from sklearn.linear_model import LogisticRegression, SGDClassifier\r\n",
        "from sklearn.svm import SVC \r\n",
        "from sklearn.ensemble import RandomForestClassifier\r\n",
        "from sklearn.neighbors import KNeighborsClassifier\r\n",
        "from sklearn.tree import DecisionTreeClassifier"
      ],
      "execution_count": null,
      "outputs": []
    },
    {
      "cell_type": "code",
      "metadata": {
        "id": "SLJdp9psxChe"
      },
      "source": [
        "all_models = {\r\n",
        "    'Naive Bayes': GaussianNB(),\r\n",
        "    'Logistic Regression': LogisticRegression(),\r\n",
        "    'Stochastic Gradient Descent': SGDClassifier(), \r\n",
        "    'K-Nearest Neighbours': KNeighborsClassifier(),\r\n",
        "    'Decision Tree': DecisionTreeClassifier(),\r\n",
        "    'Random Forest': RandomForestClassifier(),\r\n",
        "    'Support Vector Machine': SVC(), \r\n",
        "}"
      ],
      "execution_count": null,
      "outputs": []
    },
    {
      "cell_type": "markdown",
      "metadata": {
        "id": "tztC0peovW_6"
      },
      "source": [
        "###Training and Test data:"
      ]
    },
    {
      "cell_type": "code",
      "metadata": {
        "colab": {
          "base_uri": "https://localhost:8080/"
        },
        "id": "NGTOgU1ovWbm",
        "outputId": "ebb72fa0-1ed0-47d8-e57b-8c4c60641a99"
      },
      "source": [
        "dataSplitter = CustomDataSplitter()"
      ],
      "execution_count": null,
      "outputs": [
        {
          "output_type": "stream",
          "text": [
            "/usr/local/lib/python3.6/dist-packages/ipykernel_launcher.py:10: SettingWithCopyWarning: \n",
            "A value is trying to be set on a copy of a slice from a DataFrame.\n",
            "Try using .loc[row_indexer,col_indexer] = value instead\n",
            "\n",
            "See the caveats in the documentation: https://pandas.pydata.org/pandas-docs/stable/user_guide/indexing.html#returning-a-view-versus-a-copy\n",
            "  # Remove the CWD from sys.path while we load stuff.\n",
            "/usr/local/lib/python3.6/dist-packages/pandas/core/frame.py:4308: SettingWithCopyWarning: \n",
            "A value is trying to be set on a copy of a slice from a DataFrame\n",
            "\n",
            "See the caveats in the documentation: https://pandas.pydata.org/pandas-docs/stable/user_guide/indexing.html#returning-a-view-versus-a-copy\n",
            "  errors=errors,\n"
          ],
          "name": "stderr"
        },
        {
          "output_type": "stream",
          "text": [
            "Shape of train sequences:  (6514, 22)\n",
            "Shape of Validation sequences:  (1871, 22)\n",
            "Shape of Test sequences:  (922, 22)\n",
            "Shape of train labels:  (6514,)\n",
            "Shape of Validation  labels:  (1871,)\n",
            "Shape of Test  labels:  (922,)\n"
          ],
          "name": "stdout"
        }
      ]
    },
    {
      "cell_type": "code",
      "metadata": {
        "id": "MIuWvFCQveJf"
      },
      "source": [
        "x_train, y_train = dataSplitter.X_train, dataSplitter.y_train\r\n",
        "x_test, y_test = dataSplitter.X_test, dataSplitter.y_test"
      ],
      "execution_count": null,
      "outputs": []
    },
    {
      "cell_type": "markdown",
      "metadata": {
        "id": "n5gekSSrv8hP"
      },
      "source": [
        "###Fitting the models"
      ]
    },
    {
      "cell_type": "code",
      "metadata": {
        "id": "krAuVLs4u_Gf"
      },
      "source": [
        "scores = {}\r\n",
        "\r\n",
        "for model_name, model in all_models.items():\r\n",
        "  model.fit(x_train, y_train)\r\n",
        "  y_pred = model.predict(x_test)\r\n",
        "  y_true = y_test\r\n",
        "  score = custom_f1_score(y_true, y_pred).numpy()\r\n",
        "  scores[model_name] = score\r\n",
        "  #You could plot confusion matrix for every model if you wish"
      ],
      "execution_count": null,
      "outputs": []
    },
    {
      "cell_type": "code",
      "metadata": {
        "id": "GzsgdBHJHO9t"
      },
      "source": [
        ""
      ],
      "execution_count": null,
      "outputs": []
    },
    {
      "cell_type": "markdown",
      "metadata": {
        "id": "JOmVOozfzwCN"
      },
      "source": [
        "###Classification model scores on the test set:"
      ]
    },
    {
      "cell_type": "code",
      "metadata": {
        "colab": {
          "base_uri": "https://localhost:8080/"
        },
        "id": "KaAciVfLzy5h",
        "outputId": "cfa53e3e-0d01-4bb2-e2f8-41910d7df58a"
      },
      "source": [
        "scores"
      ],
      "execution_count": null,
      "outputs": [
        {
          "output_type": "execute_result",
          "data": {
            "text/plain": [
              "{'Decision Tree': 0.8328930888482208,\n",
              " 'K-Nearest Neighbours': 0.769093272084822,\n",
              " 'Logistic Regression': 0.6904963645982914,\n",
              " 'Naive Bayes': 0.4923229454050911,\n",
              " 'Random Forest': 0.8879284898899295,\n",
              " 'Stochastic Gradient Descent': 0.6030737903345067,\n",
              " 'Support Vector Machine': 0.7981211602373682}"
            ]
          },
          "metadata": {
            "tags": []
          },
          "execution_count": 25
        }
      ]
    },
    {
      "cell_type": "code",
      "metadata": {
        "id": "yuWJHrVy1kLl"
      },
      "source": [
        "#Best basic model score >>> 'Random Forest': 0.8911041777767262"
      ],
      "execution_count": null,
      "outputs": []
    },
    {
      "cell_type": "code",
      "metadata": {
        "id": "tayZWqOe02JZ"
      },
      "source": [
        "#ANN score:  0.9382990002632141. That's the best score so far!"
      ],
      "execution_count": null,
      "outputs": []
    },
    {
      "cell_type": "code",
      "metadata": {
        "id": "jYxwIPb71Ndp"
      },
      "source": [
        ""
      ],
      "execution_count": null,
      "outputs": []
    }
  ]
}